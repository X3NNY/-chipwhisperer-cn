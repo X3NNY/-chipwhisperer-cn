{
 "cells": [
  {
   "cell_type": "markdown",
   "metadata": {},
   "source": [
    "## 建立交流\n",
    "\n",
    "* 因为程序在进行密码检查之后会进入死循环，我们需要一个重置函数来进行重启。"
   ]
  },
  {
   "cell_type": "code",
   "execution_count": null,
   "metadata": {},
   "outputs": [],
   "source": [
    "import time\n",
    "def reset_target(scope):\n",
    "    if PLATFORM == \"CW303\" or PLATFORM == \"CWLITEXMEGA\":\n",
    "        scope.io.pdic = 'low'\n",
    "        time.sleep(0.05)\n",
    "        scope.io.pdic = 'high'\n",
    "        time.sleep(0.05)\n",
    "    else:  \n",
    "        scope.io.nrst = 'low'\n",
    "        time.sleep(0.05)\n",
    "        scope.io.nrst = 'high'\n",
    "        time.sleep(0.05)"
   ]
  },
  {
   "cell_type": "markdown",
   "metadata": {},
   "source": [
    "## 时序分析\n",
    "\n",
    "* 抓到能轨之后便可以开始进行攻击，我们先写一个单次运行的函数以供重复调用。"
   ]
  },
  {
   "cell_type": "code",
   "execution_count": null,
   "metadata": {},
   "outputs": [],
   "source": [
    "def cap_pass_trace(pass_guess):\n",
    "    ret = \"\"\n",
    "    reset_target(scope)\n",
    "    num_char = target.in_waiting()\n",
    "    while num_char > 0:\n",
    "        ret += target.read(num_char, 10)\n",
    "        time.sleep(0.01)\n",
    "        num_char = target.in_waiting()\n",
    "\n",
    "    scope.arm()\n",
    "    target.write(pass_guess)\n",
    "    ret = scope.capture()\n",
    "    if ret:\n",
    "        print('Timeout happened during acquisition')\n",
    "\n",
    "    trace = scope.get_last_trace()\n",
    "    return trace"
   ]
  },
  {
   "cell_type": "markdown",
   "metadata": {},
   "source": [
    "* 然后我们便可以尝试不同的密码并且查看其能轨的不同之处。"
   ]
  },
  {
   "cell_type": "code",
   "execution_count": null,
   "metadata": {},
   "outputs": [],
   "source": [
    "%matplotlib notebook\n",
    "import matplotlib.pylab as plt\n",
    "\n",
    "trace_correct = cap_pass_trace(\"h0\\n\")\n",
    "trace_wrong   = cap_pass_trace(\"h9\\n\")\n",
    "\n",
    "plt.plot(trace_wrong, 'r')\n",
    "plt.plot(trace_correct, 'g')\n",
    "plt.show()"
   ]
  },
  {
   "cell_type": "markdown",
   "metadata": {},
   "source": [
    "* 可以看见首部和尾部基本是相同的，同时如果仔细看能看到绿色的轨迹和红色的轨迹在时间上有所偏差。如果我们加密不同的消息则可以看到尖峰的位置在发生变化。我们可以查看当加密每一个字符时的轨迹。\n",
    "\n",
    "* （Xenny）可以看出两个尖峰横坐标之间差了40左右。"
   ]
  },
  {
   "cell_type": "code",
   "execution_count": null,
   "metadata": {},
   "outputs": [],
   "source": [
    "%matplotlib notebook\n",
    "import matplotlib.pylab as plt\n",
    "\n",
    "trylist = \"abcdefghijklmnopqrstuvwxyz0123456789\"\n",
    "for c in trylist:\n",
    "    next_pass = c + \"\\n\"\n",
    "    trace = cap_pass_trace(next_pass)\n",
    "    plt.plot(trace)"
   ]
  },
  {
   "cell_type": "markdown",
   "metadata": {},
   "source": [
    "## 攻击单字符\n",
    "\n",
    "* （Xenny）通过上面的能轨我们可以很明显的看到有两个尖峰\n",
    "\n",
    "* 我们已经可以看到一个很明显的时间差异了，所以我们便可以开始构建攻击。\n",
    "\n",
    "* 大致步骤为\n",
    "\n",
    "    1. 猜测密码记录能轨\n",
    "    2. 查看其尖峰位置\n",
    "\n",
    "## 攻击全部密码\n",
    "\n",
    "* 同理我们按照刚才观察得出的规律，对第$i$个字符判断不同的尖峰位置即可。所以我们只需要将攻击单字符的脚本循环其位置即可。"
   ]
  },
  {
   "cell_type": "markdown",
   "metadata": {},
   "source": [
    "## 通过SAD匹配攻击\n",
    "\n",
    "* 显然上述过程需要我们手动观察出能轨的不同，如果在不同的环境以及不同的代码中均有所不同，所以我们考虑一种自动化的思路。\n",
    "\n",
    "* SAD(Sum of Absolute Difference)计算方法为\n",
    "\n",
    "    $$\n",
    "    \\sum_{j=0}^{J}{|t_{ref,j}-t_{target,j}|}\n",
    "    $$\n",
    "\n",
    "    其中$t_{ref,j}$是参考轨迹，$t_{target,j}$是目标轨迹。\n"
   ]
  },
  {
   "cell_type": "code",
   "execution_count": null,
   "metadata": {},
   "outputs": [],
   "source": [
    "def find_offset_SAD(ref, target_trace, threshold):\n",
    "    def calc_SAD(a1, a2):\n",
    "        SAD = 0\n",
    "        for v1, v2 in zip(a1, a2):\n",
    "            SAD += abs(v1 - v2)\n",
    "        return SAD\n",
    "    for offset in range(len(target_trace) - len(ref)):\n",
    "        if calc_SAD(ref, target_trace[offset:offset+len(ref)]) < threshold:\n",
    "            return offset"
   ]
  },
  {
   "cell_type": "markdown",
   "metadata": {},
   "source": [
    "\n",
    "* 参考轨迹的要求有\n",
    "\n",
    "    1. 它必须是唯一独特的，指选择的轨迹部分不应该和后续其他部分相同\n",
    "    2. 它需要随时间变化。\n",
    "\n",
    "    同时SAD匹配对于不同的错误密码，我们应该返回同样的参考轨迹，所以这给了我们一个机会去找到一个好的临界点，如果这个临界点太高了，则会很早便匹配，反之则匹配不到。\n",
    "\n",
    "    下面便是一个例子对于所有字符进行匹配，如果偏移比参考轨迹要高，则说明它是一个正确的字符。"
   ]
  },
  {
   "cell_type": "code",
   "execution_count": null,
   "metadata": {},
   "outputs": [],
   "source": [
    "original_offset = find_offset_SAD(ref, ref_trace, 5)\n",
    "trylist = \"abcdefghijklmnopqrstuvwxyz0123456789\"\n",
    "for c in trylist:\n",
    "    next_pass = c + \"\\n\"\n",
    "    trace = cap_pass_trace(next_pass)\n",
    "    offset = find_offset_SAD(ref, trace, 5)\n",
    "    if offset is None:\n",
    "        print(\"Threshold likely too low\")\n",
    "        break\n",
    "    elif offset == 0:\n",
    "        print(\"Threshold likely too high\")\n",
    "        break\n",
    "    if offset > offset1:\n",
    "        print(c)\n",
    "        break"
   ]
  },
  {
   "cell_type": "markdown",
   "metadata": {},
   "source": [
    "* （Xenny）其实这里的理论就是正确的密码会让程序多运行一些内容，那么我们的SAD匹配的偏移则会往后延，基于此，我们只要选择好了一个正确的匹配临界。便可以逐次遍历得到正确的密码。"
   ]
  }
 ],
 "metadata": {
  "interpreter": {
   "hash": "aee8b7b246df8f9039afb4144a1f6fd8d2ca17a180786b69acc140d282b71a49"
  },
  "kernelspec": {
   "display_name": "Python 3.9.9 64-bit",
   "language": "python",
   "name": "python3"
  },
  "language_info": {
   "name": "python",
   "version": "3.9.9"
  },
  "orig_nbformat": 4
 },
 "nbformat": 4,
 "nbformat_minor": 2
}
