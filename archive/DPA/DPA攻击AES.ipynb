{
 "cells": [
  {
   "cell_type": "markdown",
   "metadata": {},
   "source": [
    "# DPA攻击AES\n",
    "\n",
    "## DPA攻击理论\n",
    "\n",
    "* 在我们之前的文章中，已经发现了AES中S盒输出的汉明重量值会对能量轨迹产生影响，这已经足够我们进行对AES的攻击了。我们的目标是从从S盒的输出轨迹中分离出某一位。如果为`1`，则这一组的平均功率应该高于其他组。\n",
    "\n",
    "\n",
    "\n",
    "    ![](img/Sbox_cpa_detail.png)"
   ]
  },
  {
   "cell_type": "markdown",
   "metadata": {},
   "source": [
    "* S盒的输出来自子密钥和明文，由于正确的密钥和其他某个子密钥的平均值有差异，于是我们便有方法可以坚持子密钥是否正确，如果我们计算所有子密钥的均值差，将会看到正确的子密钥拥有最大的均值差。\n",
    "* 步骤如下\n",
    "\n",
    "    1. 捕获多组能量轨迹。\n",
    "    2. 对S盒输出的最低位能轨进行统计分组。\n",
    "    3. 计算均值差。\n",
    "    4. 重复猜测子密钥。\n",
    "    5. 最大的差值则为正确的子密钥。\n",
    "    6. 对每个子密钥重复上述步骤。"
   ]
  },
  {
   "cell_type": "code",
   "execution_count": null,
   "metadata": {},
   "outputs": [],
   "source": [
    "from tqdm import tnrange\n",
    "import numpy as np\n",
    "mean_diffs = np.zeros(255)\n",
    "key_guess = []\n",
    "known_key = known_keys[0]\n",
    "plots = []\n",
    "for subkey in tnrange(0, 16, desc=\"Attacking Subkey\"):\n",
    "    for kguess in tnrange(255, desc=\"Keyguess\", leave=False):\n",
    "        one_list = []\n",
    "        zero_list = []\n",
    "        \n",
    "        for tnum in range(numtraces):\n",
    "            if (intermediate(textin_array[tnum][subkey], kguess) & 1): #LSB is 1\n",
    "                one_list.append(trace_array[tnum])\n",
    "            else:\n",
    "                zero_list.append(trace_array[tnum])\n",
    "        one_avg = np.asarray(one_list).mean(axis=0)\n",
    "        zero_avg = np.asarray(zero_list).mean(axis=0)\n",
    "        mean_diffs[kguess] = np.max(abs(one_avg - zero_avg))\n",
    "        if kguess == known_key[subkey]:\n",
    "            plots.append(abs(one_avg - zero_avg))\n",
    "    guess = np.argsort(mean_diffs)[-1]\n",
    "    key_guess.append(guess)\n",
    "    print(hex(guess) + \"(real = 0x{:02X})\".format(known_key[subkey]))\n",
    "    #mean_diffs.sort()\n",
    "    print(mean_diffs[guess])\n",
    "    print(mean_diffs[known_key[subkey]])"
   ]
  },
  {
   "cell_type": "markdown",
   "metadata": {},
   "source": [
    "## 幽灵峰问题\n",
    "\n",
    "* 这是由于硬件设置导致的，我们不用对此过多考虑，详情见[论文](https://eprint.iacr.org/2005/311.pdf)。\n",
    "* （Xenny）不过我在捕获的时候没遇到这个问题。"
   ]
  }
 ],
 "metadata": {
  "language_info": {
   "name": "python"
  },
  "orig_nbformat": 4
 },
 "nbformat": 4,
 "nbformat_minor": 2
}
