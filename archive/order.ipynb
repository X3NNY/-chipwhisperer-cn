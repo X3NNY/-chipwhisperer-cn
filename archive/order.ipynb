{
 "cells": [
  {
   "cell_type": "markdown",
   "metadata": {},
   "source": [
    "## 入门教程\n",
    "\n",
    "1. [硬件安装设置](Intro/%E7%A1%AC%E4%BB%B6%E5%AE%89%E8%A3%85%E8%AE%BE%E7%BD%AE.ipynb)\n",
    "2. 区别介绍\n",
    "3. [测量目标信噪比](Intro/%E6%B5%8B%E9%87%8F%E4%BF%A1%E5%99%AA%E6%AF%94.ipynb)"
   ]
  },
  {
   "cell_type": "markdown",
   "metadata": {},
   "source": [
    "## 简单功耗分析教程\n",
    "\n",
    "1. [功耗时序分析](SPA/%E5%8A%9F%E8%80%97%E6%97%B6%E5%BA%8F%E5%88%86%E6%9E%90.ipynb)"
   ]
  },
  {
   "cell_type": "markdown",
   "metadata": {},
   "source": [
    "## 差分功耗分析教程\n",
    "\n",
    "* [汉明重量测量](DPA/%E6%B1%89%E6%98%8E%E9%87%8D%E9%87%8F%E6%B5%8B%E9%87%8F.ipynb)\n",
    "* [汉明重量幅度](DPA/%E6%B1%89%E6%98%8E%E9%87%8D%E9%87%8F%E5%B9%85%E5%BA%A6.ipynb)\n",
    "* [DPA攻击AES](DPA/DPA%E6%94%BB%E5%87%BBAES.ipynb)"
   ]
  },
  {
   "cell_type": "markdown",
   "metadata": {},
   "source": [
    "## 相关功耗分析教程\n",
    "\n",
    "* [在CPA攻击中使用CW分析器](CPA/%E5%9C%A8CPA%E6%94%BB%E5%87%BB%E4%B8%AD%E4%BD%BF%E7%94%A8CW%E5%88%86%E6%9E%90%E5%99%A8.ipynb)\n",
    "* [手动CPA攻击](CPA/%E6%89%8B%E5%8A%A8CPA%E6%94%BB%E5%87%BB.ipynb)\n",
    "* [同步抖动的AES能轨](CPA/%E5%90%8C%E6%AD%A5%E6%8A%96%E5%8A%A8%E7%9A%84AES%E8%83%BD%E8%BD%A8.ipynb)\n",
    "* [32位AES](CPA/32%E4%BD%8DAES.ipynb)"
   ]
  },
  {
   "cell_type": "markdown",
   "metadata": {},
   "source": [
    "## 多重分析教程\n",
    "\n",
    "* 破坏AES256引导器"
   ]
  },
  {
   "cell_type": "markdown",
   "metadata": {},
   "source": [
    "## 攻击分析\n",
    "\n",
    "* 硬件模版攻击"
   ]
  }
 ],
 "metadata": {
  "kernelspec": {
   "display_name": "Python 3.9.12 64-bit",
   "language": "python",
   "name": "python3"
  },
  "language_info": {
   "codemirror_mode": {
    "name": "ipython",
    "version": 3
   },
   "file_extension": ".py",
   "mimetype": "text/x-python",
   "name": "python",
   "nbconvert_exporter": "python",
   "pygments_lexer": "ipython3",
   "version": "3.9.12"
  },
  "vscode": {
   "interpreter": {
    "hash": "aee8b7b246df8f9039afb4144a1f6fd8d2ca17a180786b69acc140d282b71a49"
   }
  }
 },
 "nbformat": 4,
 "nbformat_minor": 2
}
