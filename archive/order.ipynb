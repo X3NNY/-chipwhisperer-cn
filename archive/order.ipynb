{
 "cells": [
  {
   "cell_type": "markdown",
   "metadata": {},
   "source": [
    "## Intro Tutorials\n",
    "\n",
    "1. Firmware_Build_Setup\n",
    "2. Instruction_Differences\n",
    "3. [Measuring_SNR_of_Target](Intro/测量信噪比.ipynb)"
   ]
  }
 ],
 "metadata": {
  "language_info": {
   "name": "python"
  },
  "orig_nbformat": 4
 },
 "nbformat": 4,
 "nbformat_minor": 2
}
