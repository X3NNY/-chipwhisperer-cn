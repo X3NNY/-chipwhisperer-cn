{
 "cells": [
  {
   "cell_type": "markdown",
   "metadata": {},
   "source": [
    "## 入门教程\n",
    "\n",
    "1. 安装硬件设置\n",
    "2. 区别介绍\n",
    "3. [测量目标信噪比](Intro/测量信噪比.ipynb)"
   ]
  },
  {
   "cell_type": "markdown",
   "metadata": {},
   "source": [
    "## 简单功耗分析教程\n",
    "\n",
    "1. [功耗时序分析](SPA/功耗时序分析.ipynb)"
   ]
  },
  {
   "cell_type": "markdown",
   "metadata": {},
   "source": [
    "## 差分功耗分析教程\n",
    "\n",
    "* [汉明重量测量](DPA/汉明重量测量.ipynb)\n",
    "* [汉明重量幅度](DPA/汉明大摆动.ipynb)\n",
    "* [DPA攻击AES](DPA/DPA攻击AES.ipynb)"
   ]
  },
  {
   "cell_type": "markdown",
   "metadata": {},
   "source": [
    "## 相关功耗分析教程\n",
    "\n",
    "* [在CPA攻击中使用CW分析器](CPA/在CPA攻击中使用CW分析器.ipynb)\n",
    "* CPA攻击文档\n",
    "* 重新同步数据轨迹\n",
    "* 32bit AES"
   ]
  },
  {
   "cell_type": "markdown",
   "metadata": {},
   "source": [
    "## 多重分析教程\n",
    "\n",
    "* 破坏AES256引导器"
   ]
  },
  {
   "cell_type": "markdown",
   "metadata": {},
   "source": [
    "## 攻击分析\n",
    "\n",
    "* 硬件模版攻击"
   ]
  }
 ],
 "metadata": {
  "kernelspec": {
   "display_name": "Python 3 (ipykernel)",
   "language": "python",
   "name": "python3"
  },
  "language_info": {
   "codemirror_mode": {
    "name": "ipython",
    "version": 3
   },
   "file_extension": ".py",
   "mimetype": "text/x-python",
   "name": "python",
   "nbconvert_exporter": "python",
   "pygments_lexer": "ipython3",
   "version": "3.9.9"
  }
 },
 "nbformat": 4,
 "nbformat_minor": 2
}
